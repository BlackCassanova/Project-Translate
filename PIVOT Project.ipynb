{
 "cells": [
  {
   "cell_type": "code",
   "execution_count": 1,
   "metadata": {},
   "outputs": [],
   "source": [
    "import warnings\n",
    "warnings.filterwarnings('ignore')\n",
    "import os\n",
    "import pickle\n",
    "import pandas as pd\n",
    "import numpy as np\n",
    "from matplotlib import pyplot as plt\n",
    "%matplotlib inline\n",
    "import matplotlib\n",
    "matplotlib.rcParams[\"figure.figsize\"]=(20,10)"
   ]
  },
  {
   "cell_type": "code",
   "execution_count": 2,
   "metadata": {},
   "outputs": [
    {
     "data": {
      "text/plain": [
       "\" \\nI wouldn't wanna be anybody else\\nHey\\n\\n[Verse 1]\\nYou made me insecure,\\nTold me I wasn't good enough.\\nBut who are you to judge\\nWhen you're a diamond in the rough?\\nI'm sure you got some things\\nYou'd like to change about yourself.\\nBut when it comes to me\\nI wouldn't want to be anybody else.\\n\\nNa na na na na na na na na na na na na\\nNa na na na na na na na na na na na na\\n\\nI'm no beauty queen\\nI'm just beautiful me\\n\\nNa na na na na na na na na na na na na\\nNa na na na na na na na na na na na na\\n\\nYou've got every right\\nTo a beautiful life\\nC'mon\\n\\n[Chorus:]\\nWho says, who says you're not perfect?\\nWho says you're not worth it?\\nWho says you're the only one that's hurtin'?\\nTrust me, that's the price of beauty\\nWho says you're not pretty?\\nWho says you're not beautiful?\\nWho says?\\n\\n[Verse 2:]\\nIt's such a funny thing\\nHow nothing's funny when it's you\\nYou tell 'em what you mean\\nBut they keep whiting out the truth\\nIt's like a work of art\\nThat never gets to see the light\\nKeep you beneath the stars\\nWon't let you touch the sky\\n\\nNa na na na na na na na na na na na na\\nNa na na na na na na na na na na na na\\n\\nI'm no beauty queen\\nI'm just beautiful me\\n\\nNa na na na na na na na na na na na na\\nNa na na na na na na na na na na na na\\n\\nYou've got every right\\nTo a beautiful life\\nC'mon\\n\\n[Chorus:]\\nWho says, who says you're not perfect?\\nWho says you're not worth it?\\nWho says you're the only one that's hurtin'?\\nTrust me, that's the price of beauty\\nWho says you're not pretty?\\nWho says you're not beautiful?\\nWho says?\\n\\n[Bridge:]\\nWho says you're not star potential?\\nWho says you're not presidential?\\nWho says you can't be in movies?\\nListen to me, listen to me\\nWho says you don't pass the test?\\nWho says you can't be the best?\\nWho said, who said?\\nWon't you tell me who said that?\\nYeah, who said?\\n\\n[Chorus:]\\nWho says, who says you're not perfect? (Yeah)\\nWho says you're not worth it? (Yeah yeah)\\nWho says you're the only one that's hurtin'? (Ooooh)\\nTrust me, that's the price of beauty (Hey yeah, beauty)\\nWho says you're not pretty? (Who said?)\\nWho says you're not beautiful? (I'm just beautiful me)\\nWho says?\\n\\nWho says you're not perfect?\\nWho says you're not worth it?\\nWho says you're the only one that's hurtin'?\\nTrust me, that's the price of beauty (yeah, yeah)\\nWho says you're not pretty? (Who says you're not beautiful?)\\nWho says you're not beautiful?\\nWho says?\\n\""
      ]
     },
     "execution_count": 2,
     "metadata": {},
     "output_type": "execute_result"
    }
   ],
   "source": [
    "data = {}\n",
    "f =  open(\"Who Says.txt\", \"r\")\n",
    "data[0] = f.read()\n",
    "data[0]"
   ]
  },
  {
   "cell_type": "code",
   "execution_count": 3,
   "metadata": {},
   "outputs": [
    {
     "data": {
      "text/html": [
       "<div>\n",
       "<style scoped>\n",
       "    .dataframe tbody tr th:only-of-type {\n",
       "        vertical-align: middle;\n",
       "    }\n",
       "\n",
       "    .dataframe tbody tr th {\n",
       "        vertical-align: top;\n",
       "    }\n",
       "\n",
       "    .dataframe thead th {\n",
       "        text-align: right;\n",
       "    }\n",
       "</style>\n",
       "<table border=\"1\" class=\"dataframe\">\n",
       "  <thead>\n",
       "    <tr style=\"text-align: right;\">\n",
       "      <th></th>\n",
       "      <th>Lyrics</th>\n",
       "    </tr>\n",
       "  </thead>\n",
       "  <tbody>\n",
       "    <tr>\n",
       "      <td>0</td>\n",
       "      <td>\\nI wouldn't wanna be anybody else\\nHey\\n\\n[Verse 1]\\nYou made me insecure,\\nTold me I wasn't good enough.\\nBut who are you to judge\\nWhen you're a diamond in the rough?\\nI'm sure you got some th...</td>\n",
       "    </tr>\n",
       "  </tbody>\n",
       "</table>\n",
       "</div>"
      ],
      "text/plain": [
       "                                                                                                                                                                                                    Lyrics\n",
       "0   \\nI wouldn't wanna be anybody else\\nHey\\n\\n[Verse 1]\\nYou made me insecure,\\nTold me I wasn't good enough.\\nBut who are you to judge\\nWhen you're a diamond in the rough?\\nI'm sure you got some th..."
      ]
     },
     "execution_count": 3,
     "metadata": {},
     "output_type": "execute_result"
    }
   ],
   "source": [
    "pd.set_option('max_colwidth', 200)\n",
    "df1 = pd.DataFrame.from_dict(data, orient ='index')\n",
    "df1.columns = ['Lyrics']\n",
    "df1"
   ]
  },
  {
   "cell_type": "code",
   "execution_count": 4,
   "metadata": {},
   "outputs": [],
   "source": [
    "import re\n",
    "import string\n",
    "\n",
    "def round1(text):\n",
    "    #lower the Text\n",
    "    text = text.lower()\n",
    "    # Remove Numbers \n",
    "    text = re.sub(r\"\\d+\", \"\", text)\n",
    "    # Remove Symbols and special characters\n",
    "    # Below return true if not alphanumereic \n",
    "    text = re.sub(r'[^\\w]', ' ', text)\n",
    "    # Remove more than a single whitespace \n",
    "    text = ' '.join(text.split())\n",
    "    # Remove Leading and Trailing Whitespaces\n",
    "    text = text.strip()\n",
    "    return text\n",
    "rnd1 = lambda x: round1(x)"
   ]
  },
  {
   "cell_type": "code",
   "execution_count": 5,
   "metadata": {},
   "outputs": [
    {
     "data": {
      "text/html": [
       "<div>\n",
       "<style scoped>\n",
       "    .dataframe tbody tr th:only-of-type {\n",
       "        vertical-align: middle;\n",
       "    }\n",
       "\n",
       "    .dataframe tbody tr th {\n",
       "        vertical-align: top;\n",
       "    }\n",
       "\n",
       "    .dataframe thead th {\n",
       "        text-align: right;\n",
       "    }\n",
       "</style>\n",
       "<table border=\"1\" class=\"dataframe\">\n",
       "  <thead>\n",
       "    <tr style=\"text-align: right;\">\n",
       "      <th></th>\n",
       "      <th>Lyrics</th>\n",
       "    </tr>\n",
       "  </thead>\n",
       "  <tbody>\n",
       "    <tr>\n",
       "      <td>0</td>\n",
       "      <td>i wouldn t wanna be anybody else hey verse you made me insecure told me i wasn t good enough but who are you to judge when you re a diamond in the rough i m sure you got some things you d like to ...</td>\n",
       "    </tr>\n",
       "  </tbody>\n",
       "</table>\n",
       "</div>"
      ],
      "text/plain": [
       "                                                                                                                                                                                                    Lyrics\n",
       "0  i wouldn t wanna be anybody else hey verse you made me insecure told me i wasn t good enough but who are you to judge when you re a diamond in the rough i m sure you got some things you d like to ..."
      ]
     },
     "execution_count": 5,
     "metadata": {},
     "output_type": "execute_result"
    }
   ],
   "source": [
    "df2 = df1.copy()\n",
    "df2['Lyrics'] = df2['Lyrics'].apply(rnd1)\n",
    "df2"
   ]
  },
  {
   "cell_type": "code",
   "execution_count": 6,
   "metadata": {},
   "outputs": [],
   "source": [
    "import nltk\n",
    "from nltk import word_tokenize\n",
    "from nltk.corpus import stopwords\n",
    "import string\n",
    "\n",
    "#stopwords = nltk.corpus.stopwords.words('english')\n",
    "#t =['re','ve', 'em', 'll', 't', 's', 'don', 'ain', 'didn' ,'m' , 'wan', 'na' , 'la', 'gon', 'wan']\n",
    "\n",
    "#stopwords.extend(t)\n",
    "#stop = stopwords + list(string.punctuation)\n",
    "stop = list(string.punctuation)\n",
    "\n",
    "def cleaning(text):\n",
    "    clean_doc=[]\n",
    "    for x in text:\n",
    "        clean_sent=[]\n",
    "        for i in word_tokenize(x):\n",
    "        #for i in x.lower(): \n",
    "            if i not in stop:\n",
    "                clean_sent.append(i) \n",
    "        clean_doc.append(clean_sent)\n",
    "    return clean_doc "
   ]
  },
  {
   "cell_type": "code",
   "execution_count": 7,
   "metadata": {},
   "outputs": [
    {
     "data": {
      "text/html": [
       "<div>\n",
       "<style scoped>\n",
       "    .dataframe tbody tr th:only-of-type {\n",
       "        vertical-align: middle;\n",
       "    }\n",
       "\n",
       "    .dataframe tbody tr th {\n",
       "        vertical-align: top;\n",
       "    }\n",
       "\n",
       "    .dataframe thead th {\n",
       "        text-align: right;\n",
       "    }\n",
       "</style>\n",
       "<table border=\"1\" class=\"dataframe\">\n",
       "  <thead>\n",
       "    <tr style=\"text-align: right;\">\n",
       "      <th></th>\n",
       "      <th>Lyrics</th>\n",
       "    </tr>\n",
       "  </thead>\n",
       "  <tbody>\n",
       "    <tr>\n",
       "      <td>0</td>\n",
       "      <td>[i, wouldn, t, wan, na, be, anybody, else, hey, verse, you, made, me, insecure, told, me, i, wasn, t, good, enough, but, who, are, you, to, judge, when, you, re, a, diamond, in, the, rough, i, m, ...</td>\n",
       "    </tr>\n",
       "  </tbody>\n",
       "</table>\n",
       "</div>"
      ],
      "text/plain": [
       "                                                                                                                                                                                                    Lyrics\n",
       "0  [i, wouldn, t, wan, na, be, anybody, else, hey, verse, you, made, me, insecure, told, me, i, wasn, t, good, enough, but, who, are, you, to, judge, when, you, re, a, diamond, in, the, rough, i, m, ..."
      ]
     },
     "execution_count": 7,
     "metadata": {},
     "output_type": "execute_result"
    }
   ],
   "source": [
    "df3 = df2.copy()\n",
    "df3['Lyrics'] = cleaning(df3['Lyrics'])\n",
    "df3"
   ]
  },
  {
   "cell_type": "code",
   "execution_count": 8,
   "metadata": {},
   "outputs": [
    {
     "data": {
      "text/html": [
       "<div>\n",
       "<style scoped>\n",
       "    .dataframe tbody tr th:only-of-type {\n",
       "        vertical-align: middle;\n",
       "    }\n",
       "\n",
       "    .dataframe tbody tr th {\n",
       "        vertical-align: top;\n",
       "    }\n",
       "\n",
       "    .dataframe thead th {\n",
       "        text-align: right;\n",
       "    }\n",
       "</style>\n",
       "<table border=\"1\" class=\"dataframe\">\n",
       "  <thead>\n",
       "    <tr style=\"text-align: right;\">\n",
       "      <th></th>\n",
       "      <th>Lyrics</th>\n",
       "    </tr>\n",
       "  </thead>\n",
       "  <tbody>\n",
       "    <tr>\n",
       "      <td>0</td>\n",
       "      <td>i wouldn t wan na be anybody else hey verse you made me insecure told me i wasn t good enough but who are you to judge when you re a diamond in the rough i m sure you got some things you d like to...</td>\n",
       "    </tr>\n",
       "  </tbody>\n",
       "</table>\n",
       "</div>"
      ],
      "text/plain": [
       "                                                                                                                                                                                                    Lyrics\n",
       "0  i wouldn t wan na be anybody else hey verse you made me insecure told me i wasn t good enough but who are you to judge when you re a diamond in the rough i m sure you got some things you d like to..."
      ]
     },
     "execution_count": 8,
     "metadata": {},
     "output_type": "execute_result"
    }
   ],
   "source": [
    "s = ' '\n",
    "for i in range(len(df3)):\n",
    "    df3['Lyrics'].loc[i] = s.join(df3['Lyrics'].loc[i])\n",
    "df3"
   ]
  },
  {
   "cell_type": "code",
   "execution_count": 9,
   "metadata": {},
   "outputs": [],
   "source": [
    "from nltk.stem.wordnet import WordNetLemmatizer\n",
    "\n",
    "wordnet = WordNetLemmatizer()\n",
    "def Lemmatizing(text):\n",
    "    pre_doc= []\n",
    "    for word in text:\n",
    "        pre_doc.append(wordnet.lemmatize(word))\n",
    "    return pre_doc"
   ]
  },
  {
   "cell_type": "code",
   "execution_count": 10,
   "metadata": {},
   "outputs": [
    {
     "data": {
      "text/html": [
       "<div>\n",
       "<style scoped>\n",
       "    .dataframe tbody tr th:only-of-type {\n",
       "        vertical-align: middle;\n",
       "    }\n",
       "\n",
       "    .dataframe tbody tr th {\n",
       "        vertical-align: top;\n",
       "    }\n",
       "\n",
       "    .dataframe thead th {\n",
       "        text-align: right;\n",
       "    }\n",
       "</style>\n",
       "<table border=\"1\" class=\"dataframe\">\n",
       "  <thead>\n",
       "    <tr style=\"text-align: right;\">\n",
       "      <th></th>\n",
       "      <th>Lyrics</th>\n",
       "    </tr>\n",
       "  </thead>\n",
       "  <tbody>\n",
       "    <tr>\n",
       "      <td>0</td>\n",
       "      <td>i wouldn t wan na be anybody else hey verse you made me insecure told me i wasn t good enough but who are you to judge when you re a diamond in the rough i m sure you got some things you d like to...</td>\n",
       "    </tr>\n",
       "  </tbody>\n",
       "</table>\n",
       "</div>"
      ],
      "text/plain": [
       "                                                                                                                                                                                                    Lyrics\n",
       "0  i wouldn t wan na be anybody else hey verse you made me insecure told me i wasn t good enough but who are you to judge when you re a diamond in the rough i m sure you got some things you d like to..."
      ]
     },
     "execution_count": 10,
     "metadata": {},
     "output_type": "execute_result"
    }
   ],
   "source": [
    "df4 = df3.copy()\n",
    "df4['Lyrics'] = Lemmatizing(df4['Lyrics'])\n",
    "df4"
   ]
  },
  {
   "cell_type": "code",
   "execution_count": 11,
   "metadata": {},
   "outputs": [
    {
     "data": {
      "text/html": [
       "<div>\n",
       "<style scoped>\n",
       "    .dataframe tbody tr th:only-of-type {\n",
       "        vertical-align: middle;\n",
       "    }\n",
       "\n",
       "    .dataframe tbody tr th {\n",
       "        vertical-align: top;\n",
       "    }\n",
       "\n",
       "    .dataframe thead th {\n",
       "        text-align: right;\n",
       "    }\n",
       "</style>\n",
       "<table border=\"1\" class=\"dataframe\">\n",
       "  <thead>\n",
       "    <tr style=\"text-align: right;\">\n",
       "      <th></th>\n",
       "      <th>anybody</th>\n",
       "      <th>art</th>\n",
       "      <th>beautiful</th>\n",
       "      <th>beauty</th>\n",
       "      <th>beneath</th>\n",
       "      <th>best</th>\n",
       "      <th>bridge</th>\n",
       "      <th>change</th>\n",
       "      <th>chorus</th>\n",
       "      <th>comes</th>\n",
       "      <th>...</th>\n",
       "      <th>verse</th>\n",
       "      <th>wan</th>\n",
       "      <th>want</th>\n",
       "      <th>wasn</th>\n",
       "      <th>whiting</th>\n",
       "      <th>won</th>\n",
       "      <th>work</th>\n",
       "      <th>worth</th>\n",
       "      <th>wouldn</th>\n",
       "      <th>yeah</th>\n",
       "    </tr>\n",
       "  </thead>\n",
       "  <tbody>\n",
       "    <tr>\n",
       "      <td>0</td>\n",
       "      <td>2</td>\n",
       "      <td>1</td>\n",
       "      <td>10</td>\n",
       "      <td>7</td>\n",
       "      <td>1</td>\n",
       "      <td>1</td>\n",
       "      <td>1</td>\n",
       "      <td>1</td>\n",
       "      <td>3</td>\n",
       "      <td>1</td>\n",
       "      <td>...</td>\n",
       "      <td>2</td>\n",
       "      <td>1</td>\n",
       "      <td>1</td>\n",
       "      <td>1</td>\n",
       "      <td>1</td>\n",
       "      <td>2</td>\n",
       "      <td>1</td>\n",
       "      <td>4</td>\n",
       "      <td>2</td>\n",
       "      <td>7</td>\n",
       "    </tr>\n",
       "  </tbody>\n",
       "</table>\n",
       "<p>1 rows × 66 columns</p>\n",
       "</div>"
      ],
      "text/plain": [
       "   anybody  art  beautiful  beauty  beneath  best  bridge  change  chorus  \\\n",
       "0        2    1         10       7        1     1       1       1       3   \n",
       "\n",
       "   comes  ...  verse  wan  want  wasn  whiting  won  work  worth  wouldn  yeah  \n",
       "0      1  ...      2    1     1     1        1    2     1      4       2     7  \n",
       "\n",
       "[1 rows x 66 columns]"
      ]
     },
     "execution_count": 11,
     "metadata": {},
     "output_type": "execute_result"
    }
   ],
   "source": [
    "from sklearn.feature_extraction.text import CountVectorizer\n",
    "\n",
    "cv = CountVectorizer(stop_words = 'english')\n",
    "df5 = cv.fit_transform(df4['Lyrics'])\n",
    "df6 = pd.DataFrame(df5.toarray(), columns = cv.get_feature_names())\n",
    "df6.index = df4.index\n",
    "df6"
   ]
  },
  {
   "cell_type": "code",
   "execution_count": 12,
   "metadata": {},
   "outputs": [
    {
     "data": {
      "text/html": [
       "<div>\n",
       "<style scoped>\n",
       "    .dataframe tbody tr th:only-of-type {\n",
       "        vertical-align: middle;\n",
       "    }\n",
       "\n",
       "    .dataframe tbody tr th {\n",
       "        vertical-align: top;\n",
       "    }\n",
       "\n",
       "    .dataframe thead th {\n",
       "        text-align: right;\n",
       "    }\n",
       "</style>\n",
       "<table border=\"1\" class=\"dataframe\">\n",
       "  <thead>\n",
       "    <tr style=\"text-align: right;\">\n",
       "      <th></th>\n",
       "      <th>0</th>\n",
       "    </tr>\n",
       "  </thead>\n",
       "  <tbody>\n",
       "    <tr>\n",
       "      <td>anybody</td>\n",
       "      <td>2</td>\n",
       "    </tr>\n",
       "    <tr>\n",
       "      <td>art</td>\n",
       "      <td>1</td>\n",
       "    </tr>\n",
       "    <tr>\n",
       "      <td>beautiful</td>\n",
       "      <td>10</td>\n",
       "    </tr>\n",
       "    <tr>\n",
       "      <td>beauty</td>\n",
       "      <td>7</td>\n",
       "    </tr>\n",
       "    <tr>\n",
       "      <td>beneath</td>\n",
       "      <td>1</td>\n",
       "    </tr>\n",
       "    <tr>\n",
       "      <td>...</td>\n",
       "      <td>...</td>\n",
       "    </tr>\n",
       "    <tr>\n",
       "      <td>won</td>\n",
       "      <td>2</td>\n",
       "    </tr>\n",
       "    <tr>\n",
       "      <td>work</td>\n",
       "      <td>1</td>\n",
       "    </tr>\n",
       "    <tr>\n",
       "      <td>worth</td>\n",
       "      <td>4</td>\n",
       "    </tr>\n",
       "    <tr>\n",
       "      <td>wouldn</td>\n",
       "      <td>2</td>\n",
       "    </tr>\n",
       "    <tr>\n",
       "      <td>yeah</td>\n",
       "      <td>7</td>\n",
       "    </tr>\n",
       "  </tbody>\n",
       "</table>\n",
       "<p>66 rows × 1 columns</p>\n",
       "</div>"
      ],
      "text/plain": [
       "            0\n",
       "anybody     2\n",
       "art         1\n",
       "beautiful  10\n",
       "beauty      7\n",
       "beneath     1\n",
       "...        ..\n",
       "won         2\n",
       "work        1\n",
       "worth       4\n",
       "wouldn      2\n",
       "yeah        7\n",
       "\n",
       "[66 rows x 1 columns]"
      ]
     },
     "execution_count": 12,
     "metadata": {},
     "output_type": "execute_result"
    }
   ],
   "source": [
    "df7= df6.transpose()\n",
    "df7"
   ]
  },
  {
   "cell_type": "code",
   "execution_count": 13,
   "metadata": {},
   "outputs": [],
   "source": [
    "top_dict= {}\n",
    "for c in df7.columns:\n",
    "    top = df7[c].sort_values(ascending=False).head(30)\n",
    "    top_dict[c]= list(zip(top.index, top.values))"
   ]
  },
  {
   "cell_type": "code",
   "execution_count": 14,
   "metadata": {},
   "outputs": [
    {
     "name": "stdout",
     "output_type": "stream",
     "text": [
      "0\n",
      "na, says, beautiful, beauty, yeah, said, trust, price, pretty, hurtin, perfect, worth, chorus, just, got, like, funny, mon, life, wouldn, hey, queen, right, listen, anybody, ve, won, tell, verse, rough\n",
      "------------\n"
     ]
    }
   ],
   "source": [
    "for album, top_words in top_dict.items ():\n",
    "    print(album)\n",
    "    print(', '.join([word for word, count in top_words]))\n",
    "    print('------------')"
   ]
  },
  {
   "cell_type": "code",
   "execution_count": 15,
   "metadata": {},
   "outputs": [
    {
     "data": {
      "text/plain": [
       "'i wouldn t wan na be anybody else hey verse you made me insecure told me i wasn t good enough but who are you to judge when you re a diamond in the rough i m sure you got some things you d like to change about yourself but when it comes to me i wouldn t want to be anybody else na na na na na na na na na na na na na na na na na na na na na na na na na na i m no beauty queen i m just beautiful me na na na na na na na na na na na na na na na na na na na na na na na na na na you ve got every right to a beautiful life c mon chorus who says who says you re not perfect who says you re not worth it who says you re the only one that s hurtin trust me that s the price of beauty who says you re not pretty who says you re not beautiful who says verse it s such a funny thing how nothing s funny when it s you you tell em what you mean but they keep whiting out the truth it s like a work of art that never gets to see the light keep you beneath the stars won t let you touch the sky na na na na na na na na na na na na na na na na na na na na na na na na na na i m no beauty queen i m just beautiful me na na na na na na na na na na na na na na na na na na na na na na na na na na you ve got every right to a beautiful life c mon chorus who says who says you re not perfect who says you re not worth it who says you re the only one that s hurtin trust me that s the price of beauty who says you re not pretty who says you re not beautiful who says bridge who says you re not star potential who says you re not presidential who says you can t be in movies listen to me listen to me who says you don t pass the test who says you can t be the best who said who said won t you tell me who said that yeah who said chorus who says who says you re not perfect yeah who says you re not worth it yeah yeah who says you re the only one that s hurtin ooooh trust me that s the price of beauty hey yeah beauty who says you re not pretty who said who says you re not beautiful i m just beautiful me who says who says you re not perfect who says you re not worth it who says you re the only one that s hurtin trust me that s the price of beauty yeah yeah who says you re not pretty who says you re not beautiful who says you re not beautiful who says'"
      ]
     },
     "execution_count": 15,
     "metadata": {},
     "output_type": "execute_result"
    }
   ],
   "source": [
    "df4['Lyrics'].loc[0]"
   ]
  },
  {
   "cell_type": "code",
   "execution_count": 16,
   "metadata": {},
   "outputs": [],
   "source": [
    "from googletrans import Translator"
   ]
  },
  {
   "cell_type": "code",
   "execution_count": 17,
   "metadata": {},
   "outputs": [
    {
     "data": {
      "text/plain": [
       "'मैं किसी और से नहीं बनूँगा, अरे कोई भी शख्स तुमने मुझे असुरक्षित बना दिया है मुझे बताया है कि मैं बहुत अच्छा नहीं था, लेकिन जब आप किसी को एक हीरे के रूप में पहचानते हैं, तो आपको यकीन है कि आपको कुछ चीजें मिलेंगी जो आप अपने बारे में बदलना चाहते हैं लेकिन जब यह मेरे लिए आता है कि मैं किसी और के साथ नहीं रहना चाहता हूं और न ही भोलेपन में किसी भी ब्यूटी क्वीन के लिए सिर्फ ब्यूटीफुल नहीं हूं ना ना ना ना ना ना ना ना ना ना ना ना ना ना ना ना ना ना ना ना ना ना तुम में एक खूबसूरत जीवन सी मोन कोरस के हर अधिकार को मिला है जो कहता है कि तुम कौन सही नहीं कहते हैं कि तुम इसके लायक नहीं हो जो आप कहते हैं कि केवल एक ही दुख है कि मुझ पर भरोसा करो कि सौंदर्य की कीमत जो कहती है कि तुम सुंदर नहीं हो, जो कहता है कि तुम सुंदर नहीं हो, जो कहता है कि यह एक ऐसी मजेदार चीज है जो कुछ भी नहीं है जब आप इसे बताएं तो यह हास्यास्पद है। आप का मतलब है, लेकिन वे सच को बाहर निकालते रहते हैं, यह कला के एक काम की तरह है जो कभी नहीं देखने को मिलता है कि प्रकाश आपको सितारों के नीचे रखता है, जो आपको आकाश को छूने नहीं देता है, न ही ना ना ना ना ना ना ना ना ना ना ना ना ना ना ना ना ना ना ना ना ना ना ना करने ना करने में खूबसूरत हूँ ना मैं ना ना ना ना ना ना ना भला ना ना ना ना ना ना ना ना ना ना ना ना ना ना नािर्इ लिए उनतीस मे निपटा रही थी। na na na na आपको एक सुंदर जीवन c मोन कोरस का हर अधिकार मिला है, जो कहता है कि आप सही नहीं हैं जो कहता है कि आप इसके लायक नहीं हैं जो कहता है कि आप केवल एक ही है जो मुझे दुख पहुंचाते हैं मुझ पर भरोसा करते हैं कि सुंदरता की कीमत कहते हैं कि आप सुंदर नहीं हैं जो कहते हैं कि आप सुंदर नहीं हैं जो कहते हैं कि पुल जो कहता है कि आप स्टार नहीं हैं जो कहते हैं कि आप राष्ट्रपति नहीं हैं जो कहते हैं कि आप फिल्मों में नहीं हो सकते हैं तो मेरी बात सुनो मेरी बात सुनो जो कहता है कि आप परीक्षा पास नहीं करते हैं कहते हैं कि आप सबसे अच्छे हो सकते हैं, जिन्होंने कहा कि किसने जीता है जो आपने मुझे बताया है कि किसने कहा कि हाँ जो कोरस ने कहा है, जो कहता है कि आप बिल्कुल सही नहीं हैं हाँ, जो कहता है कि आप इसके लायक नहीं हैं हाँ, जो कहता है कि आप केवल एक ही है जो फिर से कहते हैं दुख की बात है कि मुझे विश्वास है कि सौंदर्य की कीमत हे, हाँ सौंदर्य, जो कहते हैं कि तुम सुंदर नहीं हो, जिन्होंने कहा कि कौन कहता है कि तुम सुंदर नहीं हो, सिर्फ सुंदर मुझे कहते हैं, जो कहते हैं आप सही नहीं हैं, जो कहता है कि आप इसके लायक नहीं हैं, जो कहता है कि आप केवल एक ही है जो चोट लगी है मुझे भरोसा है कि सौंदर्य की कीमत हाँ हाँ जो कहता है कि आप सुंदर नहीं हैं जो कहते हैं कि आप सुंदर नहीं हैं जो कहते हैं कि आप सुंदर नहीं हैं कौन कहता है'"
      ]
     },
     "execution_count": 17,
     "metadata": {},
     "output_type": "execute_result"
    }
   ],
   "source": [
    "ts = Translator()\n",
    "res = ts.translate(df4['Lyrics'].loc[0], dest='hi')\n",
    "hitext=res.text\n",
    "hitext"
   ]
  },
  {
   "cell_type": "code",
   "execution_count": 18,
   "metadata": {},
   "outputs": [],
   "source": [
    "import os\n",
    "from gtts import gTTS"
   ]
  },
  {
   "cell_type": "code",
   "execution_count": 19,
   "metadata": {},
   "outputs": [],
   "source": [
    "myobj = gTTS(text=hitext, lang= 'hi', slow=False)\n",
    "myobj.save(\"Translated Text.mp3\")"
   ]
  },
  {
   "cell_type": "code",
   "execution_count": 27,
   "metadata": {},
   "outputs": [],
   "source": [
    "# Libraries\n",
    "from wordcloud import WordCloud\n",
    "import matplotlib.pyplot as plt\n",
    "from PIL import Image\n",
    "\n",
    "\n",
    "def wordcloud_gen(text):\n",
    "    #msk = np.array(Image.open(\"maskman.png\"))\n",
    "    # Create the wordcloud object\n",
    "    wordcloud = WordCloud(#stopwords = add_stop_words,\n",
    "                          font_path='Ananda Namaste Regular.ttf',\n",
    "                          #mask = msk,\n",
    "                          width=480, height=480,\n",
    "                          #width=980, height=980,\n",
    "                          #max_words=150, \n",
    "                          background_color=\"teal\", \n",
    "                          #white, grey, pink, skyblue\n",
    "                          colormap=\"YlOrRd\", \n",
    "                          #Dark2, ocean, Accent, BuPu, PuBuGn, summer, Spectral,seismic\n",
    "                          min_font_size = 28,\n",
    "                          #max_font_size=150, \n",
    "                          #collocations=False,\n",
    "                          random_state=42).generate(text)\n",
    "    \n",
    "    #wordcloud.to_file(i +\".png\")\n",
    "    # Display the generated image:\n",
    "    plt.figure()\n",
    "    plt.imshow(wordcloud, interpolation='bilinear')\n",
    "    plt.axis(\"off\")\n",
    "    return plt.show()"
   ]
  },
  {
   "cell_type": "code",
   "execution_count": 30,
   "metadata": {},
   "outputs": [
    {
     "data": {
      "image/png": "[encoded data removed]",
      "text/plain": [
       "<Figure size 432x288 with 1 Axes>"
      ]
     },
     "metadata": {
      "needs_background": "light"
     },
     "output_type": "display_data"
    }
   ],
   "source": [
    "#for i in range (len(df4)):\n",
    "wordcloud_gen(df4['Lyrics'].loc[0])"
   ]
  },
  {
   "cell_type": "code",
   "execution_count": null,
   "metadata": {},
   "outputs": [],
   "source": []
  }
 ],
 "metadata": {
  "kernelspec": {
   "display_name": "Python 3",
   "language": "python",
   "name": "python3"
  },
  "language_info": {
   "codemirror_mode": {
    "name": "ipython",
    "version": 3
   },
   "file_extension": ".py",
   "mimetype": "text/x-python",
   "name": "python",
   "nbconvert_exporter": "python",
   "pygments_lexer": "ipython3",
   "version": "3.7.4"
  }
 },
 "nbformat": 4,
 "nbformat_minor": 2
}
